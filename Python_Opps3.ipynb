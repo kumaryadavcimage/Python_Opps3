{
 "cells": [
  {
   "cell_type": "markdown",
   "id": "6883274f-f148-45df-bb2a-43c322d73d81",
   "metadata": {},
   "source": [
    "#### Q1. What is Abstraction in OOps? Explain with an example."
   ]
  },
  {
   "cell_type": "markdown",
   "id": "c50a6766-72f2-4aa5-813b-ec3edfea7f27",
   "metadata": {},
   "source": [
    "#### solve\n",
    "\n",
    "Abstraction in Object-Oriented Programming (OOP) is the process of simplifying complex systems by modeling classes based on the essential features while ignoring unnecessary details. It involves creating abstract classes that define a common interface for a set of related classes, allowing for a higher level of generalization and reducing the complexity of a system.\n",
    "\n",
    "In other words, abstraction allows you to focus on the essential characteristics of an object and hide the implementation details. Abstract classes often have abstract methods that are meant to be implemented by their concrete subclasses.\n",
    "\n",
    "Here's an example of abstraction in Python:"
   ]
  },
  {
   "cell_type": "code",
   "execution_count": 16,
   "id": "2d34a6af-94df-4216-b210-30452b683a9c",
   "metadata": {},
   "outputs": [
    {
     "name": "stdout",
     "output_type": "stream",
     "text": [
      "Circle Area: 78.5\n",
      "Drawing a circle with radius 5\n",
      "\n",
      "Rectangle Area: 24\n",
      "Drawing a rectangle with length 4 and width 6\n"
     ]
    }
   ],
   "source": [
    "from abc import ABC, abstractmethod\n",
    "\n",
    "# Abstract class representing a shape\n",
    "class Shape(ABC):\n",
    "    @abstractmethod\n",
    "    def area(self):\n",
    "        pass\n",
    "\n",
    "    @abstractmethod\n",
    "    def draw(self):\n",
    "        pass\n",
    "\n",
    "# Concrete subclass Circle implementing the Shape interface\n",
    "class Circle(Shape):\n",
    "    def __init__(self, radius):\n",
    "        self.radius = radius\n",
    "\n",
    "    def area(self):\n",
    "        return 3.14 * self.radius * self.radius\n",
    "\n",
    "    def draw(self):\n",
    "        print(f\"Drawing a circle with radius {self.radius}\")\n",
    "\n",
    "# Concrete subclass Rectangle implementing the Shape interface\n",
    "class Rectangle(Shape):\n",
    "    def __init__(self, length, width):\n",
    "        self.length = length\n",
    "        self.width = width\n",
    "\n",
    "    def area(self):\n",
    "        return self.length * self.width\n",
    "\n",
    "    def draw(self):\n",
    "        print(f\"Drawing a rectangle with length {self.length} and width {self.width}\")\n",
    "\n",
    "# Using abstract classes and concrete subclasses\n",
    "circle = Circle(radius=5)\n",
    "rectangle = Rectangle(length=4, width=6)\n",
    "\n",
    "print(\"Circle Area:\", circle.area())\n",
    "circle.draw()\n",
    "\n",
    "print(\"\\nRectangle Area:\", rectangle.area())\n",
    "rectangle.draw()\n"
   ]
  },
  {
   "cell_type": "markdown",
   "id": "88af79e9-dfda-4f48-80ac-adb0ff3195c7",
   "metadata": {},
   "source": [
    "#### \n",
    "In this example:\n",
    "\n",
    "Shape is an abstract class representing a shape with abstract methods area and draw.\n",
    "\n",
    "Circle and Rectangle are concrete subclasses of Shape that implement the abstract methods.\n",
    "\n",
    "The area and draw methods are specific to each shape, providing a common interface for all shapes.\n",
    "\n",
    "The abstract class Shape allows us to model shapes in a generalized way without specifying the exact details of each shape until concrete subclasses are created."
   ]
  },
  {
   "cell_type": "markdown",
   "id": "fef4f106-f122-442d-b39b-28d995ca478c",
   "metadata": {},
   "source": [
    "#### Q2. Differentiate between Abstraction and Encapsulation. Explain with an example."
   ]
  },
  {
   "cell_type": "markdown",
   "id": "f4cdbe23-8b91-43df-bd3c-96bc9557a71f",
   "metadata": {},
   "source": [
    "#### solve\n",
    "Abstraction and encapsulation are two key principles in object-oriented programming (OOP), but they serve different purposes.\n",
    "\n",
    "Abstraction:\n",
    "\n",
    "Abstraction is the process of simplifying complex systems by modeling classes based on the essential features while ignoring unnecessary details.\n",
    "\n",
    "It involves creating abstract classes and abstract methods, which provide a common interface for a set of related classes.\n",
    "\n",
    "Abstraction allows you to focus on what an object does rather than how it achieves it.\n",
    "\n",
    "Encapsulation:\n",
    "\n",
    "Encapsulation is the bundling of data (attributes) and methods that operate on the data into a single unit, typically a class.\n",
    "\n",
    "It involves restricting access to some of an object's components and preventing the accidental modification of data.\n",
    "\n",
    "Encapsulation helps in hiding the internal details of an object and exposing only what is necessary.\n",
    "\n",
    "Now, let's illustrate the difference between abstraction and encapsulation with an example:"
   ]
  },
  {
   "cell_type": "code",
   "execution_count": 17,
   "id": "c8bafaac-d6b0-4667-b75b-4842ec564c50",
   "metadata": {},
   "outputs": [
    {
     "name": "stdout",
     "output_type": "stream",
     "text": [
      "Circle Area: 78.5\n"
     ]
    }
   ],
   "source": [
    "from abc import ABC, abstractmethod\n",
    "\n",
    "# Abstraction: Abstract class representing a shape\n",
    "class Shape(ABC):\n",
    "    @abstractmethod\n",
    "    def area(self):\n",
    "        pass\n",
    "\n",
    "# Encapsulation: Class encapsulating the details of a Circle\n",
    "class Circle:\n",
    "    def __init__(self, radius):\n",
    "        self._radius = radius  # Encapsulation - attribute is private\n",
    "\n",
    "    def area(self):\n",
    "        return 3.14 * self._radius * self._radius  # Encapsulation - method uses private attribute\n",
    "\n",
    "# Concrete subclass Circle implementing the Shape interface (Abstraction)\n",
    "class CircleShape(Shape):\n",
    "    def __init__(self, radius):\n",
    "        self.circle = Circle(radius)\n",
    "\n",
    "    def area(self):\n",
    "        return self.circle.area()\n",
    "\n",
    "# Using abstraction and encapsulation\n",
    "circle_shape = CircleShape(radius=5)\n",
    "print(\"Circle Area:\", circle_shape.area())\n"
   ]
  },
  {
   "cell_type": "markdown",
   "id": "ef51d7aa-ce4b-445a-8c53-4437ad084057",
   "metadata": {},
   "source": [
    "####\n",
    "In this example:\n",
    "\n",
    "Shape is an abstract class representing a shape with an abstract method area. This is an example of abstraction, providing a common interface for shapes.\n",
    "\n",
    "Circle is a class encapsulating the details of a circle. The radius attribute is encapsulated by making it private (_radius). The area method encapsulates the calculation using the private attribute.\n",
    "\n",
    "CircleShape is a concrete subclass implementing the Shape interface. It uses encapsulation by composing a Circle object, encapsulating the details of a circle."
   ]
  },
  {
   "cell_type": "markdown",
   "id": "08c21b54-1f25-48f6-8a4b-103583250aec",
   "metadata": {},
   "source": [
    "#### Q3. What is abc module in python? Why is it used?"
   ]
  },
  {
   "cell_type": "markdown",
   "id": "8f46e5d6-e6ce-4fb2-acea-1fee4e11b53c",
   "metadata": {},
   "source": [
    "#### solve\n",
    "In Python, the abc module stands for \"Abstract Base Classes,\" and it provides tools for working with abstract classes and methods. Abstract Base Classes (ABCs) are classes that cannot be instantiated directly and are meant to be subclassed by other classes. They allow you to define a common interface for a set of related classes.\n",
    "\n",
    "The main class provided by the abc module is ABC, and the abstractmethod decorator is used to declare abstract methods within abstract classes.\n",
    "\n",
    "Key components of the abc module:\n",
    "\n",
    "a.ABC (Abstract Base Class):\n",
    "\n",
    "The ABC class is a metaclass that can be used as a base class for other classes. It enables the creation of abstract classes.\n",
    "\n",
    "Abstract classes cannot be instantiated, and they are meant to be subclassed by concrete classes that provide implementations for the abstract methods.\n",
    "\n",
    "b.abstractmethod Decorator:\n",
    "\n",
    "The abstractmethod decorator is used to declare abstract methods within abstract classes.\n",
    "\n",
    "Abstract methods are methods that are meant to be overridden by concrete subclasses, and they must be implemented by any concrete class that inherits from the abstract class.\n",
    "\n",
    "Here's a simple example demonstrating the use of the abc module:"
   ]
  },
  {
   "cell_type": "code",
   "execution_count": 18,
   "id": "715e8605-8cc8-44b1-8654-36f2b3137c3a",
   "metadata": {},
   "outputs": [
    {
     "name": "stdout",
     "output_type": "stream",
     "text": [
      "Circle Area: 78.5\n",
      "Rectangle Area: 24\n"
     ]
    }
   ],
   "source": [
    "from abc import ABC, abstractmethod\n",
    "\n",
    "# Abstract Base Class (ABC)\n",
    "class Shape(ABC):\n",
    "    @abstractmethod\n",
    "    def area(self):\n",
    "        pass\n",
    "\n",
    "# Concrete subclass Circle implementing the Shape interface\n",
    "class Circle(Shape):\n",
    "    def __init__(self, radius):\n",
    "        self.radius = radius\n",
    "\n",
    "    def area(self):\n",
    "        return 3.14 * self.radius * self.radius\n",
    "\n",
    "# Concrete subclass Rectangle implementing the Shape interface\n",
    "class Rectangle(Shape):\n",
    "    def __init__(self, length, width):\n",
    "        self.length = length\n",
    "        self.width = width\n",
    "\n",
    "    def area(self):\n",
    "        return self.length * self.width\n",
    "\n",
    "# Creating instances of concrete subclasses\n",
    "circle = Circle(radius=5)\n",
    "rectangle = Rectangle(length=4, width=6)\n",
    "\n",
    "# Using abstract methods through the common interface\n",
    "print(\"Circle Area:\", circle.area())\n",
    "print(\"Rectangle Area:\", rectangle.area())\n"
   ]
  },
  {
   "cell_type": "markdown",
   "id": "35e95b25-72b0-486e-90cd-67a8c3e71c4f",
   "metadata": {},
   "source": [
    "In this example:\n",
    "\n",
    "The Shape class is an abstract base class with an abstract method area.\n",
    "\n",
    "The Circle and Rectangle classes are concrete subclasses of Shape that provide implementations for the abstract method area.\n",
    "\n",
    "Instances of the concrete subclasses use the common interface provided by the abstract class, allowing for a consistent way to interact with different shapes."
   ]
  },
  {
   "cell_type": "markdown",
   "id": "6b970a15-ecb0-46ed-9f38-c5433ce7524e",
   "metadata": {},
   "source": [
    "#### Q4. How can we achieve data abstraction?"
   ]
  },
  {
   "cell_type": "markdown",
   "id": "c5722c71-037f-4f14-ad33-ba574f51cf43",
   "metadata": {},
   "source": [
    "#### solve\n",
    "\n",
    "Data abstraction in programming refers to the concept of hiding the implementation details of data and exposing only the relevant information to the outside world. It involves creating abstract data types or classes that encapsulate the data and provide methods to interact with it. In Python, you can achieve data abstraction through the following mechanisms:\n",
    "\n",
    "a.Classes and Objects:\n",
    "\n",
    "Use classes to encapsulate data and methods that operate on that data.\n",
    "\n",
    "Define attributes (data) as instance variables within the class.\n",
    "\n",
    "Use methods to expose functionality and manipulate the data"
   ]
  },
  {
   "cell_type": "code",
   "execution_count": 19,
   "id": "4fefdfcd-b01d-48f5-982e-6bde6ba9f930",
   "metadata": {},
   "outputs": [
    {
     "name": "stdout",
     "output_type": "stream",
     "text": [
      "Account Balance: 1300\n"
     ]
    }
   ],
   "source": [
    "class BankAccount:\n",
    "    def __init__(self, account_holder, balance):\n",
    "        self.account_holder = account_holder\n",
    "        self.balance = balance\n",
    "\n",
    "    def deposit(self, amount):\n",
    "        self.balance += amount\n",
    "\n",
    "    def withdraw(self, amount):\n",
    "        if amount <= self.balance:\n",
    "            self.balance -= amount\n",
    "        else:\n",
    "            print(\"Insufficient funds\")\n",
    "\n",
    "    def get_balance(self):\n",
    "        return self.balance\n",
    "\n",
    "# Example usage\n",
    "account1 = BankAccount(account_holder=\"Alice\", balance=1000)\n",
    "account1.deposit(500)\n",
    "account1.withdraw(200)\n",
    "print(\"Account Balance:\", account1.get_balance())\n"
   ]
  },
  {
   "cell_type": "markdown",
   "id": "3884e407-fb89-4a93-a5bf-dd72bfb37031",
   "metadata": {},
   "source": [
    "#### \n",
    "b.Encapsulation:\n",
    "\n",
    "Encapsulate data by making instance variables private (using a single leading underscore, _).\n",
    "\n",
    "Provide methods (getters and setters) to access and modify the private data."
   ]
  },
  {
   "cell_type": "code",
   "execution_count": 20,
   "id": "27c24ed0-6d06-42dc-b10c-6679fd391353",
   "metadata": {},
   "outputs": [
    {
     "name": "stdout",
     "output_type": "stream",
     "text": [
      "Student Name: Bob\n",
      "Student Age: 21\n"
     ]
    }
   ],
   "source": [
    "class Student:\n",
    "    def __init__(self, name, age):\n",
    "        self._name = name\n",
    "        self._age = age\n",
    "\n",
    "    # Getter methods\n",
    "    def get_name(self):\n",
    "        return self._name\n",
    "\n",
    "    def get_age(self):\n",
    "        return self._age\n",
    "\n",
    "    # Setter methods\n",
    "    def set_name(self, name):\n",
    "        self._name = name\n",
    "\n",
    "    def set_age(self, age):\n",
    "        self._age = age\n",
    "\n",
    "# Example usage\n",
    "student1 = Student(name=\"Bob\", age=20)\n",
    "print(\"Student Name:\", student1.get_name())\n",
    "student1.set_age(21)\n",
    "print(\"Student Age:\", student1.get_age())\n"
   ]
  },
  {
   "cell_type": "markdown",
   "id": "2889e9d8-1a11-4b27-842c-f67aff081882",
   "metadata": {},
   "source": [
    "#### \n",
    "c.Abstract Base Classes (ABCs):\n",
    "\n",
    "Use the abc module to create abstract classes with abstract methods.\n",
    "\n",
    "Subclasses must implement the abstract methods, providing a common interface."
   ]
  },
  {
   "cell_type": "code",
   "execution_count": 21,
   "id": "0f4916f8-26b1-4f93-8365-d1ae7ccb0a97",
   "metadata": {},
   "outputs": [
    {
     "name": "stdout",
     "output_type": "stream",
     "text": [
      "Circle Area: 78.5\n",
      "Rectangle Area: 24\n"
     ]
    }
   ],
   "source": [
    "from abc import ABC, abstractmethod\n",
    "\n",
    "class Shape(ABC):\n",
    "    @abstractmethod\n",
    "    def area(self):\n",
    "        pass\n",
    "\n",
    "class Circle(Shape):\n",
    "    def __init__(self, radius):\n",
    "        self.radius = radius\n",
    "\n",
    "    def area(self):\n",
    "        return 3.14 * self.radius * self.radius\n",
    "\n",
    "class Rectangle(Shape):\n",
    "    def __init__(self, length, width):\n",
    "        self.length = length\n",
    "        self.width = width\n",
    "\n",
    "    def area(self):\n",
    "        return self.length * self.width\n",
    "\n",
    "# Example usage\n",
    "circle = Circle(radius=5)\n",
    "rectangle = Rectangle(length=4, width=6)\n",
    "print(\"Circle Area:\", circle.area())\n",
    "print(\"Rectangle Area:\", rectangle.area())\n"
   ]
  },
  {
   "cell_type": "markdown",
   "id": "8a016ea1-5097-4926-b526-936cf283a7dd",
   "metadata": {},
   "source": [
    "####\n",
    "By using classes, encapsulation, and abstract classes, you can achieve data abstraction in Python. This allows you to hide the internal details of data structures, expose only relevant information, and provide a clear and consistent interface for interacting with the data."
   ]
  },
  {
   "cell_type": "markdown",
   "id": "6ea01109-d1d8-45d6-8eec-e2e9c582e536",
   "metadata": {},
   "source": [
    "#### Q5. Can we create an instance of an abstract class? Explain your answer."
   ]
  },
  {
   "cell_type": "markdown",
   "id": "a0f67771-40e1-4a60-ba06-523695bb55cd",
   "metadata": {},
   "source": [
    "#### solve\n",
    "\n",
    "No, you cannot create an instance of an abstract class in Python. Abstract classes are meant to be subclassed, and they typically include one or more abstract methods that must be implemented by concrete (non-abstract) subclasses. Abstract classes are designed to provide a common interface for a group of related classes, but they are not intended to be instantiated on their own.\n",
    "\n",
    "In Python, abstract classes are created using the ABC (Abstract Base Class) metaclass, and abstract methods are declared using the @abstractmethod decorator. An abstract method is a method that is declared in an abstract class but does not contain an implementation in the abstract class itself.\n",
    "\n",
    "Here's an example:"
   ]
  },
  {
   "cell_type": "code",
   "execution_count": 24,
   "id": "0af8b39a-ffcb-47e3-9135-963ca3430264",
   "metadata": {},
   "outputs": [],
   "source": [
    "from abc import ABC, abstractmethod\n",
    "\n",
    "class Shape(ABC):\n",
    "    @abstractmethod\n",
    "    def area(self):\n",
    "        pass\n",
    "\n",
    "# Attempting to create an instance of an abstract class will result in an error\n",
    "# Uncommenting the next line will raise a TypeError\n",
    "# my_shape = Shape()\n"
   ]
  },
  {
   "cell_type": "markdown",
   "id": "af5f43b7-68f1-4f50-8a6d-76312aa2759e",
   "metadata": {},
   "source": [
    "####\n",
    "If you try to create an instance of the Shape abstract class, as shown in the commented line above, it will result in a TypeError. Abstract classes are meant to serve as a blueprint for other classes, and you should create instances of concrete subclasses that implement the abstract methods."
   ]
  },
  {
   "cell_type": "code",
   "execution_count": 25,
   "id": "e626ff33-580b-4779-9d93-d2bc3b799b87",
   "metadata": {},
   "outputs": [
    {
     "name": "stdout",
     "output_type": "stream",
     "text": [
      "Circle Area: 78.5\n"
     ]
    }
   ],
   "source": [
    "class Circle(Shape):\n",
    "    def __init__(self, radius):\n",
    "        self.radius = radius\n",
    "\n",
    "    def area(self):\n",
    "        return 3.14 * self.radius * self.radius\n",
    "\n",
    "# Creating an instance of the concrete subclass Circle\n",
    "my_circle = Circle(radius=5)\n",
    "print(\"Circle Area:\", my_circle.area())\n"
   ]
  },
  {
   "cell_type": "markdown",
   "id": "735ad311-1c93-4747-a7cc-d6e01ed8b21d",
   "metadata": {},
   "source": [
    "####\n",
    "In this example, Circle is a concrete subclass of the abstract class Shape. Instances of Circle can be created and used because it provides an implementation for the abstract method area."
   ]
  },
  {
   "cell_type": "code",
   "execution_count": null,
   "id": "53321ab7-4a9f-4971-b14a-c2ca0a3724a6",
   "metadata": {},
   "outputs": [],
   "source": []
  },
  {
   "cell_type": "code",
   "execution_count": null,
   "id": "c0425c4c-1d8d-4267-b7d6-720a5874942e",
   "metadata": {},
   "outputs": [],
   "source": []
  }
 ],
 "metadata": {
  "kernelspec": {
   "display_name": "Python 3 (ipykernel)",
   "language": "python",
   "name": "python3"
  },
  "language_info": {
   "codemirror_mode": {
    "name": "ipython",
    "version": 3
   },
   "file_extension": ".py",
   "mimetype": "text/x-python",
   "name": "python",
   "nbconvert_exporter": "python",
   "pygments_lexer": "ipython3",
   "version": "3.10.8"
  }
 },
 "nbformat": 4,
 "nbformat_minor": 5
}
